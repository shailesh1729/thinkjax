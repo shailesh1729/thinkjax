{
 "cells": [
  {
   "cell_type": "markdown",
   "id": "e13b1b14",
   "metadata": {},
   "source": [
    "# JAX arrays\n",
    "\n",
    "JAX arrays are similar to NumPy arrays in many ways and different in some crucial ways. Since JAX focuses on functional programming, hence JAX arrays are immutable. This may require significant amount of changes while transitioning from NumPy code to JAX code.  \n",
    "\n",
    "In this chapter, we will go through a number of examples explaining the similarities and differences.\n"
   ]
  },
  {
   "cell_type": "markdown",
   "id": "da0017bf",
   "metadata": {},
   "source": [
    "## Importing \n",
    "\n",
    "JAX includes several libraries. The one that closely resembles NumPy is `jax.numpy`.  Just like we use the shorthand `np` for `numpy` during the `import numpy as np` as a convention, the convention for importing `jax.numpy` is:"
   ]
  },
  {
   "cell_type": "code",
   "execution_count": 1,
   "id": "18ad1921",
   "metadata": {},
   "outputs": [],
   "source": [
    "import jax.numpy as jnp"
   ]
  },
  {
   "cell_type": "markdown",
   "id": "de23eb2d",
   "metadata": {},
   "source": [
    "## 1-D vectors"
   ]
  },
  {
   "cell_type": "code",
   "execution_count": 13,
   "id": "7de2f740",
   "metadata": {},
   "outputs": [
    {
     "name": "stdout",
     "output_type": "stream",
     "text": [
      "[0. 0. 0. 0.]\n"
     ]
    }
   ],
   "source": [
    "z = jnp.zeros(4)\n",
    "print(z)"
   ]
  },
  {
   "cell_type": "code",
   "execution_count": 27,
   "id": "acce591f",
   "metadata": {},
   "outputs": [
    {
     "name": "stdout",
     "output_type": "stream",
     "text": [
      "float32 (4,)\n"
     ]
    }
   ],
   "source": [
    "print(z.dtype, z.shape)"
   ]
  },
  {
   "cell_type": "code",
   "execution_count": 5,
   "id": "37d64319",
   "metadata": {},
   "outputs": [
    {
     "data": {
      "text/plain": [
       "DeviceArray([1., 1., 1., 1.], dtype=float32)"
      ]
     },
     "execution_count": 5,
     "metadata": {},
     "output_type": "execute_result"
    }
   ],
   "source": [
    "jnp.ones(4)"
   ]
  },
  {
   "cell_type": "code",
   "execution_count": 10,
   "id": "3e6ebe11",
   "metadata": {},
   "outputs": [
    {
     "data": {
      "text/plain": [
       "DeviceArray([0., 0., 0., 0.], dtype=float32)"
      ]
     },
     "execution_count": 10,
     "metadata": {},
     "output_type": "execute_result"
    }
   ],
   "source": [
    "jnp.empty(4)"
   ]
  },
  {
   "cell_type": "code",
   "execution_count": 7,
   "id": "bfee3f41",
   "metadata": {},
   "outputs": [
    {
     "data": {
      "text/plain": [
       "DeviceArray([1, 1, 1, 1], dtype=int32)"
      ]
     },
     "execution_count": 7,
     "metadata": {},
     "output_type": "execute_result"
    }
   ],
   "source": [
    "jnp.ones(4, dtype=int)"
   ]
  },
  {
   "cell_type": "markdown",
   "id": "fa834f86",
   "metadata": {},
   "source": [
    "### A range of integers"
   ]
  },
  {
   "cell_type": "code",
   "execution_count": 16,
   "id": "cff8b89b",
   "metadata": {},
   "outputs": [
    {
     "name": "stdout",
     "output_type": "stream",
     "text": [
      "[0 1 2 3 4]\n"
     ]
    }
   ],
   "source": [
    "a = jnp.arange(5)\n",
    "print(a)"
   ]
  },
  {
   "cell_type": "code",
   "execution_count": 19,
   "id": "8d412beb",
   "metadata": {},
   "outputs": [
    {
     "name": "stdout",
     "output_type": "stream",
     "text": [
      "int32 (5,)\n"
     ]
    }
   ],
   "source": [
    "print(a.dtype, a.shape)"
   ]
  },
  {
   "cell_type": "code",
   "execution_count": 21,
   "id": "b05c4482",
   "metadata": {},
   "outputs": [
    {
     "data": {
      "text/plain": [
       "DeviceArray([2, 3, 4, 5, 6, 7], dtype=int32)"
      ]
     },
     "execution_count": 21,
     "metadata": {},
     "output_type": "execute_result"
    }
   ],
   "source": [
    "# start and stop\n",
    "jnp.arange(2,8)"
   ]
  },
  {
   "cell_type": "code",
   "execution_count": 22,
   "id": "cd3ca7f7",
   "metadata": {},
   "outputs": [
    {
     "data": {
      "text/plain": [
       "DeviceArray([2, 4, 6], dtype=int32)"
      ]
     },
     "execution_count": 22,
     "metadata": {},
     "output_type": "execute_result"
    }
   ],
   "source": [
    "# start, stop and step size\n",
    "jnp.arange(2,8, 2)"
   ]
  },
  {
   "cell_type": "markdown",
   "id": "6ff599d6",
   "metadata": {},
   "source": [
    "### Linearly spaced values"
   ]
  },
  {
   "cell_type": "code",
   "execution_count": 25,
   "id": "066e3fcb",
   "metadata": {},
   "outputs": [
    {
     "data": {
      "text/plain": [
       "DeviceArray([0.  , 0.25, 0.5 , 0.75, 1.  ], dtype=float32)"
      ]
     },
     "execution_count": 25,
     "metadata": {},
     "output_type": "execute_result"
    }
   ],
   "source": [
    "jnp.linspace(0, 1, num=5)"
   ]
  },
  {
   "cell_type": "code",
   "execution_count": 26,
   "id": "c034571d",
   "metadata": {},
   "outputs": [
    {
     "data": {
      "text/plain": [
       "DeviceArray([0. , 0.2, 0.4, 0.6, 0.8], dtype=float32)"
      ]
     },
     "execution_count": 26,
     "metadata": {},
     "output_type": "execute_result"
    }
   ],
   "source": [
    "# excluding the endpoint.  \n",
    "jnp.linspace(0, 1, num=5, endpoint=False)"
   ]
  },
  {
   "cell_type": "markdown",
   "id": "7c731e5d",
   "metadata": {},
   "source": [
    "### Boolean vectors"
   ]
  },
  {
   "cell_type": "code",
   "execution_count": 8,
   "id": "66c67227",
   "metadata": {},
   "outputs": [
    {
     "data": {
      "text/plain": [
       "DeviceArray([ True,  True,  True,  True], dtype=bool)"
      ]
     },
     "execution_count": 8,
     "metadata": {},
     "output_type": "execute_result"
    }
   ],
   "source": [
    "jnp.ones(4, dtype=bool)"
   ]
  },
  {
   "cell_type": "code",
   "execution_count": 9,
   "id": "b142bbbf",
   "metadata": {},
   "outputs": [
    {
     "data": {
      "text/plain": [
       "DeviceArray([False, False, False, False], dtype=bool)"
      ]
     },
     "execution_count": 9,
     "metadata": {},
     "output_type": "execute_result"
    }
   ],
   "source": [
    "jnp.zeros(4, dtype=bool)"
   ]
  },
  {
   "cell_type": "markdown",
   "id": "d7671c35",
   "metadata": {},
   "source": [
    "## 2-D Matrices"
   ]
  },
  {
   "cell_type": "code",
   "execution_count": 4,
   "id": "6e648f57",
   "metadata": {},
   "outputs": [
    {
     "data": {
      "text/plain": [
       "DeviceArray([[0., 0., 0., 0.],\n",
       "             [0., 0., 0., 0.],\n",
       "             [0., 0., 0., 0.],\n",
       "             [0., 0., 0., 0.]], dtype=float32)"
      ]
     },
     "execution_count": 4,
     "metadata": {},
     "output_type": "execute_result"
    }
   ],
   "source": [
    "jnp.zeros((4,4))"
   ]
  },
  {
   "cell_type": "code",
   "execution_count": 6,
   "id": "fdbc8106",
   "metadata": {},
   "outputs": [
    {
     "data": {
      "text/plain": [
       "DeviceArray([[1., 1., 1., 1.],\n",
       "             [1., 1., 1., 1.],\n",
       "             [1., 1., 1., 1.],\n",
       "             [1., 1., 1., 1.]], dtype=float32)"
      ]
     },
     "execution_count": 6,
     "metadata": {},
     "output_type": "execute_result"
    }
   ],
   "source": [
    "jnp.ones((4,4))"
   ]
  },
  {
   "cell_type": "markdown",
   "id": "ca1eda27",
   "metadata": {},
   "source": [
    "## 64 Bit Support\n",
    "\n",
    "By default, JAX works with 32-bit integers and floating point numbers. All calculations are in 32-bit. If you need 64-bit integers and floats, in your calculations, you need to explicitly enable the support.\n",
    "\n",
    "It is recommended that you enable 64-bit support at the beginning of your program. You shouldn't switch this parameter in between. "
   ]
  },
  {
   "cell_type": "code",
   "execution_count": 35,
   "id": "37d7ef03",
   "metadata": {},
   "outputs": [],
   "source": [
    "# enabling 64-bit support\n",
    "from jax.config import config\n",
    "config.update(\"jax_enable_x64\", True)"
   ]
  },
  {
   "cell_type": "code",
   "execution_count": 36,
   "id": "0b2050f5",
   "metadata": {},
   "outputs": [
    {
     "data": {
      "text/plain": [
       "DeviceArray([1, 1, 1, 1], dtype=int64)"
      ]
     },
     "execution_count": 36,
     "metadata": {},
     "output_type": "execute_result"
    }
   ],
   "source": [
    "jnp.ones(4, dtype=jnp.int64)"
   ]
  },
  {
   "cell_type": "code",
   "execution_count": null,
   "id": "902b8f28",
   "metadata": {},
   "outputs": [],
   "source": []
  },
  {
   "cell_type": "code",
   "execution_count": null,
   "id": "68f9637e",
   "metadata": {},
   "outputs": [],
   "source": []
  }
 ],
 "metadata": {
  "kernelspec": {
   "display_name": "Python 3",
   "language": "python",
   "name": "python3"
  },
  "language_info": {
   "codemirror_mode": {
    "name": "ipython",
    "version": 3
   },
   "file_extension": ".py",
   "mimetype": "text/x-python",
   "name": "python",
   "nbconvert_exporter": "python",
   "pygments_lexer": "ipython3",
   "version": "3.8.8"
  }
 },
 "nbformat": 4,
 "nbformat_minor": 5
}
